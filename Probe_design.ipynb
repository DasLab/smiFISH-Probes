{
 "cells": [
  {
   "cell_type": "markdown",
   "id": "ce253d22-92e2-4894-b4d5-0fcd23ad89c9",
   "metadata": {},
   "source": [
    "Setting up probes:"
   ]
  },
  {
   "cell_type": "code",
   "execution_count": 3,
   "id": "9a55cfb3-be84-4fc9-b214-79de1354d423",
   "metadata": {},
   "outputs": [],
   "source": [
    "# desired DNA strand\n",
    "MBP_seq = \"AAAGACAGGCCCTCAGAGTCCGACGAGCTTCTCAGAGTCCGACGAGCTTCAGACCATCCAAGAAGATCCCACAGCAGCTTCCGAAGGCCTGGATGTGATGGCATCACAGAAGAGACCCTCACAGCGACACGGGTCCAAGTACTTGGCCACAGCAAGTACCATGGACCATGCCCGGCATGGCTTCCTCCCAAGGCACAGAGACACGGGCATCCTTGACTCCATCGGGCGCTTCTTTAGCGGTGACAGGGGTGCGCCCAAGCGGGGCTCTGGCAAGGTACCCTGGCTAAAGCAGAGCCGGAGCCCTCTGCCTTCTCATGCCCGCAGCCGTCCCGGGCTGTGCCACATGTACAAGGACTCACACACAAGAACTACCCACTACGGCTCCCTGCCCCAGAAGTCGCAGAGGACCCAAGATGAAAACCCAGTAGTCCACTTCTTCAAGAACATTGTGACACCTCGTACACCCCCTCCATCCCAAGGAAAGGGGAGAGGCCTGTCCCTCAGCAGATTTAGCTGGGGGGCCGAGGGGCAGAAGCCAGGATTTGGCTACGGAGGCAGAGCTTCCGACTATAAATCGGCTCACAAGGGATTCAAGGGGGCCTACGACGCCCAGGGCACGCTTTCCAAAATCTTTAAGCTGGGAGGAAGAGACAGCCGCTCTGGATCTCCCATGGCAAGACGCTGAGAGCCTCCCTGCTCAGCCTTCCCGAATCCTGCCCTCGGCTTCTTAATATAACTGCCTTAAACGTTTAATTCTACTTGCACCAAATAGCTAGTTAGAGCAGACCCTCTCTTAATCCCGTGGGGCTGTGAACGCGGCGGGGCCAGGCCCACGGCACCCTGACTGGCTAAAACTGTTTGTCCCTTTTTATTTGAAGATTGAGTTTCCTCGGGGTCTTCTCTGCCCCGACTTGCTCCCCGTGTACCTTGGTCGACTCCGGAGGTTCAGGTGCACGGACACCCTTTCAAGTTCACCCCTACTCCATCCTCAGACTTTCTTTTCACGGCGAGGCGCACCCCTCCAGCTTCCGTGGGCACTGCGGATAGACAGGCACACCGCCAAGGAGCCAGAGAGCATGGCGCAGGGGACTGTGTGGTCCAGGCTTCCTTTGTTTTCTTTCCCCTAAAGAGCTTTGTTTTTCCTAACAGGATCAGACAGTCTTGGAGTGGCTTACACAACGGGGGCTTGTGGTATGTGAGCACAGGCTGGGCAGCTGTGAGAGTCCAGAGTGGGGTGGCCCTGGGGACGCTTCCAGGCCAGCGGTTCCCTGCACCCCACCAGCTGATTTCGAGCGTGGCAGAGGGAAGGAAAGGGGCGAGCGGGCTGGGCAATGGACCCGACAGGAAACGGGGACTTAGGGGAACACGCTGGAGATGCCATGTGTGGCTGCCGAAGGTCACCATCTCTCCTCAGTGGCTCCCCAGAGCAGGTGCTTTTAAGAACCCTGTTTCCTCTCAGAGCCCAGGGAGAGTCCAAGGACATGGCGCATCAGGAAGTGGGACTGCAGGAGTTCTCTGGTGGCCTCGTGCTGTCCCTCTGGCCACTTCTCACTTTAGGGTGGTCAGCGGCAGCTCGCCATGGCAGTGCCCATTGGTGCACACTAACCTCAGTGGAAAAGTAACCATTCCCTGCCTCTTAGAAAGAACTCATTCTTAGTTTTAGGAGGGTTCCTGTCGCTGAATCAAGTCGCTGCCCTGGATGCAGGGCTGGCCTGGGCGACCCTCCAGGGATGAGGAGCTCAGAATTCCAGTCTTCTAATGTCCACGGACACCTCCCCATCCCTCTAACGTACTGACTATGTCTTTTGATTTAGCATGTCTTCTATAGACCTTCCAAAGAGACCCACACTGGCACTGTCACCCCCTAGGAGGGAAGGTGATGGTTGATGTAGCCCGACGCGCATCTTGTTAATCCGTTCTAATTCCGAGGAGAGTGTGGGTTTAAGATAACACCTATTAATGCATTGCCACAATAATGTGGGGGTAAGAGAAACGCAGGGACGAAACTTCCAGAAACAAACCCTCCAGATCGTTCCACAGGAGTGTTCGCCCTCCGGTGTGACTGAACGACCGACCTTGCCCATGGCTTCATCCAGACAGCACAGCTGCAGTATGGCTGGACAGAAGCACCTACTGTTCTTGGATATTGAAATAAAATAATAAACTTGCAATGATCTTTG\""
   ]
  },
  {
   "cell_type": "code",
   "execution_count": 5,
   "id": "3337783c-8587-47a8-8f32-5481e4f113f3",
   "metadata": {},
   "outputs": [],
   "source": [
    "# complement and reverse DNA strand\n",
    "comp = MBP_seq.lower()[::-1].replace(\"g\", \"C\").replace(\"c\", \"G\").replace(\"t\", \"A\").replace(\"a\", \"T\")"
   ]
  },
  {
   "cell_type": "code",
   "execution_count": 6,
   "id": "fe523d1c-ef74-4dfc-b66b-47fcf9beaaee",
   "metadata": {},
   "outputs": [],
   "source": [
    "# splitting probes\n",
    "split_probes = []\n",
    "for n in range(20, 31): \n",
    "    for i in range(0, len(comp), n):\n",
    "        probe = comp[i:i + n]\n",
    "        \n",
    "        \n",
    "        if len(probe) > 20:\n",
    "            split_probes.append(probe)\n",
    "\n",
    "# Not sure if we should include file below\n",
    "\n",
    "# f = open(\"split_probes.txt\", \"w\")\n",
    "# f.write(str(split_probes))\n",
    "# f.close()"
   ]
  },
  {
   "cell_type": "markdown",
   "id": "2b6bcec2-ddcb-41be-b2b3-2801c54025ce",
   "metadata": {},
   "source": [
    "PNAS rules:"
   ]
  },
  {
   "cell_type": "code",
   "execution_count": 7,
   "id": "3ae8c476-a0d9-436d-9755-873ce7aebfd1",
   "metadata": {},
   "outputs": [],
   "source": [
    "# PNAS 1\n",
    "def pnas_filter_1(probe_sequence):\n",
    "    percent_a = probe_sequence.count('A')/len(probe_sequence)\n",
    "    return 0.28 < percent_a"
   ]
  },
  {
   "cell_type": "code",
   "execution_count": 8,
   "id": "c1b01b2e-50b0-430d-bd1b-0d831ed3601e",
   "metadata": {},
   "outputs": [],
   "source": [
    "# PNAS 2\n",
    "def pnas_filter_2(probe_sequence):\n",
    "    A_stack = 'AAAA'\n",
    "    if A_stack in probe_sequence:\n",
    "        return False \n",
    "    else:\n",
    "        return True"
   ]
  },
  {
   "cell_type": "code",
   "execution_count": 9,
   "id": "7ff2d106-2e4d-4779-95b9-f7c75d6666c9",
   "metadata": {},
   "outputs": [],
   "source": [
    "# PNAS 3\n",
    "def pnas_filter_3(probe_sequence):\n",
    "    percent_c = probe_sequence.count('C')/len(probe_sequence)\n",
    "    return 0.22 < percent_c and 0.28 > percent_c"
   ]
  },
  {
   "cell_type": "code",
   "execution_count": 10,
   "id": "c1f77284-bac0-4aa2-b8ba-d25017520a1e",
   "metadata": {},
   "outputs": [],
   "source": [
    "# PNAS 4\n",
    "def pnas_filter_4(probe_sequence):\n",
    "    C_stack = 'CCCC'\n",
    "    sequence_subset = probe_sequence[0:12]\n",
    "    if C_stack in sequence_subset:\n",
    "        return False\n",
    "    else:\n",
    "        return True  "
   ]
  },
  {
   "cell_type": "code",
   "execution_count": 11,
   "id": "1174f149-64ec-4b1b-800e-0d3cd9c94218",
   "metadata": {},
   "outputs": [],
   "source": [
    "# PNAS 5\n",
    "def pnas_filter_5(probe_sequence):\n",
    "    sequence_subset = probe_sequence[0:12]\n",
    "    for p in range(6):\n",
    "        if sequence_subset[p:p+6].count('C') >= 4:\n",
    "            return False\n",
    "    return True"
   ]
  },
  {
   "cell_type": "markdown",
   "id": "dfe04ac2-f9fb-4ee6-a9f0-6a20de40739d",
   "metadata": {},
   "source": [
    "deltaG:"
   ]
  },
  {
   "cell_type": "code",
   "execution_count": 6,
   "id": "d7c90053-a34e-4504-9943-edeb258ccdc6",
   "metadata": {},
   "outputs": [],
   "source": [
    "def deltaG1(probe_sequence):\n",
    "    import pandas as pd\n",
    "    \n",
    "    table = {\"AA\":-0.2, \"AC\":-1.5, \"AG\":-0.9, \"AT\":-1.0,\n",
    "        \"CA\":-1.0, \"CC\":-2.2, \"CG\":-1.2, \"CT\":-1.4,\n",
    "        \"GA\":-0.8, \"GC\":-2.4, \"GG\":-1.5, \"GT\":-1.0, \n",
    "        \"TA\":-0.3, \"TC\":-1.4, \"TG\":-1.0, \"TT\":-0.4}\n",
    "    \n",
    "    for p in range(len(probe_sequence)):\n",
    "        list_of_pairs = [probe_sequence[p:2 + p] for p in range(0, len(probe_sequence))]\n",
    "        list_of_pairs.pop()\n",
    "        if len(list_of_pairs) > 0:\n",
    "            C = (pd.Series(list_of_pairs)).map(table)\n",
    "            D = list(C)\n",
    "            return sum(D)"
   ]
  },
  {
   "cell_type": "code",
   "execution_count": 7,
   "id": "a49f825d-39d9-4615-bc86-05803826ac40",
   "metadata": {},
   "outputs": [
    {
     "data": {
      "text/plain": [
       "-0.2"
      ]
     },
     "execution_count": 7,
     "metadata": {},
     "output_type": "execute_result"
    }
   ],
   "source": [
    "deltaG1('AA')"
   ]
  },
  {
   "cell_type": "markdown",
   "id": "89328baa-5622-4e64-b3cd-a8b09692fc5b",
   "metadata": {},
   "source": [
    "Percent of GC:"
   ]
  },
  {
   "cell_type": "code",
   "execution_count": 14,
   "id": "1282aaf4-d254-42c3-b45d-69900d00e020",
   "metadata": {},
   "outputs": [],
   "source": [
    "def GC_percent(probe_sequence):\n",
    "    percent_GC = probe_sequence.count('G' and 'C')/len(probe_sequence)\n",
    "    return percent_GC"
   ]
  },
  {
   "cell_type": "markdown",
   "id": "b26a972b-a7e7-45ba-ab07-10eba3aea289",
   "metadata": {},
   "source": [
    "Start and end indexes:"
   ]
  },
  {
   "cell_type": "code",
   "execution_count": 15,
   "id": "1d067808-1a09-4a0d-9c08-8bc9e6d3cac0",
   "metadata": {},
   "outputs": [],
   "source": [
    "def start_index(probe_sequence):\n",
    "    if probe in comp:\n",
    "        start = comp.find(probe_sequence)\n",
    "        return start"
   ]
  },
  {
   "cell_type": "code",
   "execution_count": 16,
   "id": "4125378c-d237-4f1f-be24-40405b5be005",
   "metadata": {},
   "outputs": [],
   "source": [
    "def end_index(probe_sequence):\n",
    "    if probe in comp:\n",
    "        end = comp.find(probe_sequence)\n",
    "        end += len(probe_sequence) - 1\n",
    "        return end"
   ]
  },
  {
   "cell_type": "code",
   "execution_count": null,
   "id": "42a02ae4-de05-4ee2-a7a7-e7e638c660c0",
   "metadata": {},
   "outputs": [],
   "source": []
  }
 ],
 "metadata": {
  "kernelspec": {
   "display_name": "Python 3",
   "language": "python",
   "name": "python3"
  },
  "language_info": {
   "codemirror_mode": {
    "name": "ipython",
    "version": 3
   },
   "file_extension": ".py",
   "mimetype": "text/x-python",
   "name": "python",
   "nbconvert_exporter": "python",
   "pygments_lexer": "ipython3",
   "version": "3.8.8"
  }
 },
 "nbformat": 4,
 "nbformat_minor": 5
}
